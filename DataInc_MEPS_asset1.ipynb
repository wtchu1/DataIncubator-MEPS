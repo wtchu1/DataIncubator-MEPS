{
 "cells": [
  {
   "cell_type": "markdown",
   "metadata": {},
   "source": [
    "# Data Incubator Project: Exploring the MEPS database - Asset 1\n",
    "## MEPS HC-183: MEPS Panel 19 Longitudinal Data File\n",
    "Description: This file is a two-year longitudinal file derived from the respondents to the MEPS Panel 19 sample. The persons on this data set represent those who were in the MEPS population (U.S. civilian noninstitutionalized) for all or part of the 2014-2015 period. The file contains a longitudinal weight variable (LONGWT) and all variables from the 2014 and 2015 full-year consolidated data files (HC-171 and HC-181, respectively). The weight variable (LONGWT), when applied to the persons who participated in both 2014 and 2015, will enable the user to make national estimates of person-level changes in selected variables (e.g., health insurance, health status, utilization and expenditures). In addition, LONGWT can be used to develop cross-sectional type estimates for the two-year period and for each year individually based on only the Panel 19 sample."
   ]
  },
  {
   "cell_type": "code",
   "execution_count": 1,
   "metadata": {},
   "outputs": [],
   "source": [
    "# Import Dependencied\n",
    "import os.path\n",
    "from os import path\n",
    "import ntpath\n",
    "import requests\n",
    "from zipfile import ZipFile\n",
    "import pandas as pd\n",
    "import matplotlib.pyplot as plt\n",
    "import numpy as np\n",
    "import scipy.stats as stats"
   ]
  },
  {
   "cell_type": "code",
   "execution_count": 2,
   "metadata": {},
   "outputs": [],
   "source": [
    "local_dir='C:\\\\Users\\\\wc11\\\\OneDrive\\\\Documents\\\\Graduate Research\\\\PPMI_2020\\\\'\n",
    "url = 'https://meps.ahrq.gov/mepsweb/data_files/pufs/h183ssp.zip'\n",
    "zip_name = ntpath.basename(url)\n",
    "dir_name = os.path.splitext(zip_name)[0]"
   ]
  },
  {
   "cell_type": "code",
   "execution_count": 3,
   "metadata": {},
   "outputs": [
    {
     "name": "stdout",
     "output_type": "stream",
     "text": [
      "Data already downloaded, skipping\n"
     ]
    }
   ],
   "source": [
    "if not path.exists(local_dir + dir_name):\n",
    "    print('Downloading data...', end = ' ')\n",
    "    myfile = requests.get(url)\n",
    "    open(local_dir + zip_name, 'wb').write(myfile.content)\n",
    "    print('Done')\n",
    "\n",
    "    print('Unzipping...', end = ' ')\n",
    "    with ZipFile(local_dir + zip_name, 'r') as zipObj:\n",
    "        zipObj.extractall(local_dir + dir_name)\n",
    "    print('Done')\n",
    "else:\n",
    "    print('Data already downloaded, skipping')"
   ]
  },
  {
   "cell_type": "code",
   "execution_count": 4,
   "metadata": {},
   "outputs": [
    {
     "name": "stdout",
     "output_type": "stream",
     "text": [
      "Reading in file... Done\n"
     ]
    },
    {
     "data": {
      "text/html": [
       "<div>\n",
       "<style scoped>\n",
       "    .dataframe tbody tr th:only-of-type {\n",
       "        vertical-align: middle;\n",
       "    }\n",
       "\n",
       "    .dataframe tbody tr th {\n",
       "        vertical-align: top;\n",
       "    }\n",
       "\n",
       "    .dataframe thead th {\n",
       "        text-align: right;\n",
       "    }\n",
       "</style>\n",
       "<table border=\"1\" class=\"dataframe\">\n",
       "  <thead>\n",
       "    <tr style=\"text-align: right;\">\n",
       "      <th></th>\n",
       "      <th>Unnamed: 0</th>\n",
       "      <th>DUID</th>\n",
       "      <th>PID</th>\n",
       "      <th>DUPERSID</th>\n",
       "      <th>PANEL</th>\n",
       "      <th>YEARIND</th>\n",
       "      <th>SAQRDS24</th>\n",
       "      <th>ALL5RDS</th>\n",
       "      <th>DIED</th>\n",
       "      <th>INST</th>\n",
       "      <th>...</th>\n",
       "      <th>RXOSRY1</th>\n",
       "      <th>RXOSRY2</th>\n",
       "      <th>RXPTRY1</th>\n",
       "      <th>RXPTRY2</th>\n",
       "      <th>RXOTHY1</th>\n",
       "      <th>RXOTHY2</th>\n",
       "      <th>VARPSU</th>\n",
       "      <th>VARSTR</th>\n",
       "      <th>LONGWT</th>\n",
       "      <th>LSAQWT</th>\n",
       "    </tr>\n",
       "  </thead>\n",
       "  <tbody>\n",
       "    <tr>\n",
       "      <th>0</th>\n",
       "      <td>1</td>\n",
       "      <td>60001</td>\n",
       "      <td>101</td>\n",
       "      <td>60001101</td>\n",
       "      <td>19</td>\n",
       "      <td>1</td>\n",
       "      <td>1</td>\n",
       "      <td>1</td>\n",
       "      <td>0</td>\n",
       "      <td>0</td>\n",
       "      <td>...</td>\n",
       "      <td>0</td>\n",
       "      <td>0</td>\n",
       "      <td>0</td>\n",
       "      <td>0</td>\n",
       "      <td>17</td>\n",
       "      <td>0</td>\n",
       "      <td>1</td>\n",
       "      <td>1019</td>\n",
       "      <td>39761.667305</td>\n",
       "      <td>44377.148888</td>\n",
       "    </tr>\n",
       "    <tr>\n",
       "      <th>1</th>\n",
       "      <td>2</td>\n",
       "      <td>60001</td>\n",
       "      <td>102</td>\n",
       "      <td>60001102</td>\n",
       "      <td>19</td>\n",
       "      <td>1</td>\n",
       "      <td>1</td>\n",
       "      <td>1</td>\n",
       "      <td>0</td>\n",
       "      <td>0</td>\n",
       "      <td>...</td>\n",
       "      <td>0</td>\n",
       "      <td>0</td>\n",
       "      <td>0</td>\n",
       "      <td>0</td>\n",
       "      <td>0</td>\n",
       "      <td>4</td>\n",
       "      <td>1</td>\n",
       "      <td>1019</td>\n",
       "      <td>38812.991354</td>\n",
       "      <td>44987.121771</td>\n",
       "    </tr>\n",
       "    <tr>\n",
       "      <th>2</th>\n",
       "      <td>3</td>\n",
       "      <td>60001</td>\n",
       "      <td>103</td>\n",
       "      <td>60001103</td>\n",
       "      <td>19</td>\n",
       "      <td>1</td>\n",
       "      <td>1</td>\n",
       "      <td>1</td>\n",
       "      <td>0</td>\n",
       "      <td>0</td>\n",
       "      <td>...</td>\n",
       "      <td>0</td>\n",
       "      <td>0</td>\n",
       "      <td>0</td>\n",
       "      <td>0</td>\n",
       "      <td>0</td>\n",
       "      <td>0</td>\n",
       "      <td>1</td>\n",
       "      <td>1019</td>\n",
       "      <td>46083.339064</td>\n",
       "      <td>66456.525430</td>\n",
       "    </tr>\n",
       "    <tr>\n",
       "      <th>3</th>\n",
       "      <td>4</td>\n",
       "      <td>60001</td>\n",
       "      <td>104</td>\n",
       "      <td>60001104</td>\n",
       "      <td>19</td>\n",
       "      <td>1</td>\n",
       "      <td>1</td>\n",
       "      <td>1</td>\n",
       "      <td>0</td>\n",
       "      <td>0</td>\n",
       "      <td>...</td>\n",
       "      <td>0</td>\n",
       "      <td>0</td>\n",
       "      <td>0</td>\n",
       "      <td>0</td>\n",
       "      <td>0</td>\n",
       "      <td>0</td>\n",
       "      <td>1</td>\n",
       "      <td>1019</td>\n",
       "      <td>37196.263715</td>\n",
       "      <td>40325.054495</td>\n",
       "    </tr>\n",
       "    <tr>\n",
       "      <th>4</th>\n",
       "      <td>5</td>\n",
       "      <td>60001</td>\n",
       "      <td>105</td>\n",
       "      <td>60001105</td>\n",
       "      <td>19</td>\n",
       "      <td>1</td>\n",
       "      <td>0</td>\n",
       "      <td>1</td>\n",
       "      <td>0</td>\n",
       "      <td>0</td>\n",
       "      <td>...</td>\n",
       "      <td>0</td>\n",
       "      <td>0</td>\n",
       "      <td>0</td>\n",
       "      <td>0</td>\n",
       "      <td>0</td>\n",
       "      <td>265</td>\n",
       "      <td>1</td>\n",
       "      <td>1019</td>\n",
       "      <td>44365.766126</td>\n",
       "      <td>0.000000</td>\n",
       "    </tr>\n",
       "  </tbody>\n",
       "</table>\n",
       "<p>5 rows × 3490 columns</p>\n",
       "</div>"
      ],
      "text/plain": [
       "   Unnamed: 0   DUID  PID  DUPERSID  PANEL  YEARIND  SAQRDS24  ALL5RDS  DIED  \\\n",
       "0           1  60001  101  60001101     19        1         1        1     0   \n",
       "1           2  60001  102  60001102     19        1         1        1     0   \n",
       "2           3  60001  103  60001103     19        1         1        1     0   \n",
       "3           4  60001  104  60001104     19        1         1        1     0   \n",
       "4           5  60001  105  60001105     19        1         0        1     0   \n",
       "\n",
       "   INST      ...       RXOSRY1  RXOSRY2  RXPTRY1  RXPTRY2 RXOTHY1 RXOTHY2  \\\n",
       "0     0      ...             0        0        0        0      17       0   \n",
       "1     0      ...             0        0        0        0       0       4   \n",
       "2     0      ...             0        0        0        0       0       0   \n",
       "3     0      ...             0        0        0        0       0       0   \n",
       "4     0      ...             0        0        0        0       0     265   \n",
       "\n",
       "  VARPSU VARSTR        LONGWT        LSAQWT  \n",
       "0      1   1019  39761.667305  44377.148888  \n",
       "1      1   1019  38812.991354  44987.121771  \n",
       "2      1   1019  46083.339064  66456.525430  \n",
       "3      1   1019  37196.263715  40325.054495  \n",
       "4      1   1019  44365.766126      0.000000  \n",
       "\n",
       "[5 rows x 3490 columns]"
      ]
     },
     "execution_count": 4,
     "metadata": {},
     "output_type": "execute_result"
    }
   ],
   "source": [
    "print('Reading in file...', end = ' ')\n",
    "file = local_dir + dir_name + '\\\\h183.csv'\n",
    "data = pd.read_csv(file)\n",
    "print('Done')\n",
    "data.head()"
   ]
  },
  {
   "cell_type": "code",
   "execution_count": 5,
   "metadata": {},
   "outputs": [],
   "source": [
    "def ttest_check(cat_A, cat_B, skip_plot = False):\n",
    "    # cat_A is a binary metric where 1 is YES, 2 is NO\n",
    "    # cat_B is a scalar metric where values < 0 are ignored\n",
    "    # Run an independent samples TTEST between YES and NO\n",
    "    t, p = stats.ttest_ind(data.loc[(data[cat_A] == 1) & (data[cat_B] >= 0), cat_B], \n",
    "                        data.loc[(data[cat_A] == 2) & (data[cat_B] >= 0), cat_B])\n",
    "\n",
    "    grp_y_mean = data.loc[(data[cat_A] == 1) & (data[cat_B] >= 0), cat_B].mean()\n",
    "    grp_n_mean = data.loc[(data[cat_A] == 2) & (data[cat_B] >= 0), cat_B].mean()\n",
    "    if grp_y_mean > grp_n_mean:\n",
    "        note = '(Yes > No)'\n",
    "    else:\n",
    "        note = '(No > Yes)'\n",
    "\n",
    "    # Create a boxplot comparing the groups\n",
    "    if skip_plot is False:\n",
    "        plt.boxplot([data.loc[(data[cat_A] == 1) & (data[cat_B] >= 0),cat_B], \n",
    "                    data.loc[(data[cat_A] == 2) & (data[cat_B] >= 0),cat_B]],\n",
    "                    showmeans=True)\n",
    "        plt.xticks([1, 2],['YES', 'NO'])\n",
    "        plt.title(cat_A)\n",
    "        plt.ylabel('# of days missed work due to illness or injury')\n",
    "        plt.xlabel('Unable to get necessary dental care?')\n",
    "        plt.show()\n",
    "        \n",
    "    print('{}: p-value for Yes vs. No: {} {}'.format(cat_A, p, note))"
   ]
  },
  {
   "cell_type": "markdown",
   "metadata": {},
   "source": [
    "### An inability to get necessary dental care is associated with a higher number of missed workdays due to illness"
   ]
  },
  {
   "cell_type": "code",
   "execution_count": 6,
   "metadata": {},
   "outputs": [
    {
     "name": "stdout",
     "output_type": "stream",
     "text": [
      "DNUNAB4 asks the participant if they are unable to get necessary dental care\n"
     ]
    },
    {
     "data": {
      "image/png": "[encoded data removed]",
      "text/plain": [
       "<Figure size 432x288 with 1 Axes>"
      ]
     },
     "metadata": {},
     "output_type": "display_data"
    },
    {
     "name": "stdout",
     "output_type": "stream",
     "text": [
      "DNUNAB4: p-value for Yes vs. No: 0.03926462876931402 (Yes > No)\n"
     ]
    }
   ],
   "source": [
    "print('DNUNAB4 asks the participant if they are unable to get necessary dental care')\n",
    "ttest_check('DNUNAB4', 'DDNWRKY2', False)"
   ]
  },
  {
   "cell_type": "markdown",
   "metadata": {},
   "source": [
    "This is an interesting finding because typically dental care is not thought of as a necessity, and thus may employee healthcare plans do not include a dental component. However these results suggest that employers that wish to minimize the number of missed workdays due to illness should include a dental plan in their healthcare package. It should be noted that the results are not conclusive and the effects of socioeconomic status need to be accounted for in future models"
   ]
  }
 ],
 "metadata": {
  "kernelspec": {
   "display_name": "Python 3",
   "language": "python",
   "name": "python3"
  },
  "language_info": {
   "codemirror_mode": {
    "name": "ipython",
    "version": 3
   },
   "file_extension": ".py",
   "mimetype": "text/x-python",
   "name": "python",
   "nbconvert_exporter": "python",
   "pygments_lexer": "ipython3",
   "version": "3.6.5"
  }
 },
 "nbformat": 4,
 "nbformat_minor": 2
}

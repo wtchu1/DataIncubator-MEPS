{
 "cells": [
  {
   "cell_type": "markdown",
   "metadata": {},
   "source": [
    "# Data Incubator Project: Exploring the MEPS database - Asset 2\n",
    "## MEPS HC-183: MEPS Panel 19 Longitudinal Data File\n",
    "Description: This file is a two-year longitudinal file derived from the respondents to the MEPS Panel 19 sample. The persons on this data set represent those who were in the MEPS population (U.S. civilian noninstitutionalized) for all or part of the 2014-2015 period. The file contains a longitudinal weight variable (LONGWT) and all variables from the 2014 and 2015 full-year consolidated data files (HC-171 and HC-181, respectively). The weight variable (LONGWT), when applied to the persons who participated in both 2014 and 2015, will enable the user to make national estimates of person-level changes in selected variables (e.g., health insurance, health status, utilization and expenditures). In addition, LONGWT can be used to develop cross-sectional type estimates for the two-year period and for each year individually based on only the Panel 19 sample."
   ]
  },
  {
   "cell_type": "code",
   "execution_count": 1,
   "metadata": {},
   "outputs": [],
   "source": [
    "# Import Dependencied\n",
    "import os.path\n",
    "from os import path\n",
    "import ntpath\n",
    "import requests\n",
    "from zipfile import ZipFile\n",
    "import pandas as pd\n",
    "import matplotlib.pyplot as plt\n",
    "import numpy as np\n",
    "import scipy.stats as stats"
   ]
  },
  {
   "cell_type": "code",
   "execution_count": 2,
   "metadata": {},
   "outputs": [],
   "source": [
    "local_dir='C:\\\\Users\\\\wc11\\\\OneDrive\\\\Documents\\\\Graduate Research\\\\PPMI_2020\\\\'\n",
    "url = 'https://meps.ahrq.gov/mepsweb/data_files/pufs/h183ssp.zip'\n",
    "zip_name = ntpath.basename(url)\n",
    "dir_name = os.path.splitext(zip_name)[0]"
   ]
  },
  {
   "cell_type": "code",
   "execution_count": 3,
   "metadata": {},
   "outputs": [
    {
     "name": "stdout",
     "output_type": "stream",
     "text": [
      "Data already downloaded, skipping\n"
     ]
    }
   ],
   "source": [
    "if not path.exists(local_dir + dir_name):\n",
    "    print('Downloading data...', end = ' ')\n",
    "    myfile = requests.get(url)\n",
    "    open(local_dir + zip_name, 'wb').write(myfile.content)\n",
    "    print('Done')\n",
    "\n",
    "    print('Unzipping...', end = ' ')\n",
    "    with ZipFile(local_dir + zip_name, 'r') as zipObj:\n",
    "        zipObj.extractall(local_dir + dir_name)\n",
    "    print('Done')\n",
    "else:\n",
    "    print('Data already downloaded, skipping')"
   ]
  },
  {
   "cell_type": "code",
   "execution_count": 4,
   "metadata": {},
   "outputs": [
    {
     "name": "stdout",
     "output_type": "stream",
     "text": [
      "Reading in file... Done\n"
     ]
    },
    {
     "data": {
      "text/html": [
       "<div>\n",
       "<style scoped>\n",
       "    .dataframe tbody tr th:only-of-type {\n",
       "        vertical-align: middle;\n",
       "    }\n",
       "\n",
       "    .dataframe tbody tr th {\n",
       "        vertical-align: top;\n",
       "    }\n",
       "\n",
       "    .dataframe thead th {\n",
       "        text-align: right;\n",
       "    }\n",
       "</style>\n",
       "<table border=\"1\" class=\"dataframe\">\n",
       "  <thead>\n",
       "    <tr style=\"text-align: right;\">\n",
       "      <th></th>\n",
       "      <th>Unnamed: 0</th>\n",
       "      <th>DUID</th>\n",
       "      <th>PID</th>\n",
       "      <th>DUPERSID</th>\n",
       "      <th>PANEL</th>\n",
       "      <th>YEARIND</th>\n",
       "      <th>SAQRDS24</th>\n",
       "      <th>ALL5RDS</th>\n",
       "      <th>DIED</th>\n",
       "      <th>INST</th>\n",
       "      <th>...</th>\n",
       "      <th>RXOSRY1</th>\n",
       "      <th>RXOSRY2</th>\n",
       "      <th>RXPTRY1</th>\n",
       "      <th>RXPTRY2</th>\n",
       "      <th>RXOTHY1</th>\n",
       "      <th>RXOTHY2</th>\n",
       "      <th>VARPSU</th>\n",
       "      <th>VARSTR</th>\n",
       "      <th>LONGWT</th>\n",
       "      <th>LSAQWT</th>\n",
       "    </tr>\n",
       "  </thead>\n",
       "  <tbody>\n",
       "    <tr>\n",
       "      <th>0</th>\n",
       "      <td>1</td>\n",
       "      <td>60001</td>\n",
       "      <td>101</td>\n",
       "      <td>60001101</td>\n",
       "      <td>19</td>\n",
       "      <td>1</td>\n",
       "      <td>1</td>\n",
       "      <td>1</td>\n",
       "      <td>0</td>\n",
       "      <td>0</td>\n",
       "      <td>...</td>\n",
       "      <td>0</td>\n",
       "      <td>0</td>\n",
       "      <td>0</td>\n",
       "      <td>0</td>\n",
       "      <td>17</td>\n",
       "      <td>0</td>\n",
       "      <td>1</td>\n",
       "      <td>1019</td>\n",
       "      <td>39761.667305</td>\n",
       "      <td>44377.148888</td>\n",
       "    </tr>\n",
       "    <tr>\n",
       "      <th>1</th>\n",
       "      <td>2</td>\n",
       "      <td>60001</td>\n",
       "      <td>102</td>\n",
       "      <td>60001102</td>\n",
       "      <td>19</td>\n",
       "      <td>1</td>\n",
       "      <td>1</td>\n",
       "      <td>1</td>\n",
       "      <td>0</td>\n",
       "      <td>0</td>\n",
       "      <td>...</td>\n",
       "      <td>0</td>\n",
       "      <td>0</td>\n",
       "      <td>0</td>\n",
       "      <td>0</td>\n",
       "      <td>0</td>\n",
       "      <td>4</td>\n",
       "      <td>1</td>\n",
       "      <td>1019</td>\n",
       "      <td>38812.991354</td>\n",
       "      <td>44987.121771</td>\n",
       "    </tr>\n",
       "    <tr>\n",
       "      <th>2</th>\n",
       "      <td>3</td>\n",
       "      <td>60001</td>\n",
       "      <td>103</td>\n",
       "      <td>60001103</td>\n",
       "      <td>19</td>\n",
       "      <td>1</td>\n",
       "      <td>1</td>\n",
       "      <td>1</td>\n",
       "      <td>0</td>\n",
       "      <td>0</td>\n",
       "      <td>...</td>\n",
       "      <td>0</td>\n",
       "      <td>0</td>\n",
       "      <td>0</td>\n",
       "      <td>0</td>\n",
       "      <td>0</td>\n",
       "      <td>0</td>\n",
       "      <td>1</td>\n",
       "      <td>1019</td>\n",
       "      <td>46083.339064</td>\n",
       "      <td>66456.525430</td>\n",
       "    </tr>\n",
       "    <tr>\n",
       "      <th>3</th>\n",
       "      <td>4</td>\n",
       "      <td>60001</td>\n",
       "      <td>104</td>\n",
       "      <td>60001104</td>\n",
       "      <td>19</td>\n",
       "      <td>1</td>\n",
       "      <td>1</td>\n",
       "      <td>1</td>\n",
       "      <td>0</td>\n",
       "      <td>0</td>\n",
       "      <td>...</td>\n",
       "      <td>0</td>\n",
       "      <td>0</td>\n",
       "      <td>0</td>\n",
       "      <td>0</td>\n",
       "      <td>0</td>\n",
       "      <td>0</td>\n",
       "      <td>1</td>\n",
       "      <td>1019</td>\n",
       "      <td>37196.263715</td>\n",
       "      <td>40325.054495</td>\n",
       "    </tr>\n",
       "    <tr>\n",
       "      <th>4</th>\n",
       "      <td>5</td>\n",
       "      <td>60001</td>\n",
       "      <td>105</td>\n",
       "      <td>60001105</td>\n",
       "      <td>19</td>\n",
       "      <td>1</td>\n",
       "      <td>0</td>\n",
       "      <td>1</td>\n",
       "      <td>0</td>\n",
       "      <td>0</td>\n",
       "      <td>...</td>\n",
       "      <td>0</td>\n",
       "      <td>0</td>\n",
       "      <td>0</td>\n",
       "      <td>0</td>\n",
       "      <td>0</td>\n",
       "      <td>265</td>\n",
       "      <td>1</td>\n",
       "      <td>1019</td>\n",
       "      <td>44365.766126</td>\n",
       "      <td>0.000000</td>\n",
       "    </tr>\n",
       "  </tbody>\n",
       "</table>\n",
       "<p>5 rows × 3490 columns</p>\n",
       "</div>"
      ],
      "text/plain": [
       "   Unnamed: 0   DUID  PID  DUPERSID  PANEL  YEARIND  SAQRDS24  ALL5RDS  DIED  \\\n",
       "0           1  60001  101  60001101     19        1         1        1     0   \n",
       "1           2  60001  102  60001102     19        1         1        1     0   \n",
       "2           3  60001  103  60001103     19        1         1        1     0   \n",
       "3           4  60001  104  60001104     19        1         1        1     0   \n",
       "4           5  60001  105  60001105     19        1         0        1     0   \n",
       "\n",
       "   INST      ...       RXOSRY1  RXOSRY2  RXPTRY1  RXPTRY2 RXOTHY1 RXOTHY2  \\\n",
       "0     0      ...             0        0        0        0      17       0   \n",
       "1     0      ...             0        0        0        0       0       4   \n",
       "2     0      ...             0        0        0        0       0       0   \n",
       "3     0      ...             0        0        0        0       0       0   \n",
       "4     0      ...             0        0        0        0       0     265   \n",
       "\n",
       "  VARPSU VARSTR        LONGWT        LSAQWT  \n",
       "0      1   1019  39761.667305  44377.148888  \n",
       "1      1   1019  38812.991354  44987.121771  \n",
       "2      1   1019  46083.339064  66456.525430  \n",
       "3      1   1019  37196.263715  40325.054495  \n",
       "4      1   1019  44365.766126      0.000000  \n",
       "\n",
       "[5 rows x 3490 columns]"
      ]
     },
     "execution_count": 4,
     "metadata": {},
     "output_type": "execute_result"
    }
   ],
   "source": [
    "print('Reading in file...', end = ' ')\n",
    "file = local_dir + dir_name + '\\\\h183.csv'\n",
    "data = pd.read_csv(file)\n",
    "print('Done')\n",
    "data.head()"
   ]
  },
  {
   "cell_type": "code",
   "execution_count": 6,
   "metadata": {},
   "outputs": [],
   "source": [
    "def ttest_check(cat_A, cat_B, skip_plot = False):\n",
    "    # cat_A is a binary metric where 1 is YES, 2 is NO\n",
    "    # cat_B is a scalar metric where values < 0 are ignored\n",
    "    # Run an independent samples TTEST between YES and NO\n",
    "    t, p = stats.ttest_ind(data.loc[(data[cat_A] == 1) & (data[cat_B] >= 0), cat_B], \n",
    "                        data.loc[(data[cat_A] == 2) & (data[cat_B] >= 0), cat_B])\n",
    "\n",
    "    grp_y_mean = data.loc[(data[cat_A] == 1) & (data[cat_B] >= 0), cat_B].mean()\n",
    "    grp_n_mean = data.loc[(data[cat_A] == 2) & (data[cat_B] >= 0), cat_B].mean()\n",
    "    if grp_y_mean > grp_n_mean:\n",
    "        note = '(Yes > No)'\n",
    "    else:\n",
    "        note = '(No > Yes)'\n",
    " \n",
    "    print('{}: p-value for Yes vs. No: {} {}'.format(cat_A, p, note))\n",
    "\n",
    "    # Create a boxplot comparing the groups\n",
    "    if skip_plot is False:\n",
    "        plt.boxplot([data.loc[(data[cat_A] == 1) & (data[cat_B] >= 0),cat_B], \n",
    "                    data.loc[(data[cat_A] == 2) & (data[cat_B] >= 0),cat_B]],\n",
    "                    showmeans=True)\n",
    "        plt.xticks([1, 2],['YES', 'NO'])\n",
    "        plt.xlabel(cat_A)\n",
    "        plt.ylabel(cat_B)\n",
    "        plt.show()"
   ]
  },
  {
   "cell_type": "code",
   "execution_count": 10,
   "metadata": {},
   "outputs": [],
   "source": [
    "def corr_check_diag(cat_A, cat_B, skip_plot = False):\n",
    "    # Calculate Pearson's Correlation Coefficient btwn two scalar metrics\n",
    "    corr, _ = stats.pearsonr(data.loc[(data[cat_A] >= 0) & (data[cat_B] >= 0),cat_A],\n",
    "                data.loc[(data[cat_A] >= 0) & (data[cat_B] >= 0),cat_B])\n",
    "    print('{} vs. {}: Pearson\\'s: {}'.format(cat_A, cat_B, corr))\n",
    "\n",
    "    # Display Scatterplot\n",
    "    if skip_plot is False:\n",
    "        plt.scatter(data.loc[(data[cat_A] >= 0) & (data[cat_B] >= 0),cat_A],\n",
    "                    data.loc[(data[cat_A] >= 0) & (data[cat_B] >= 0),cat_B])\n",
    "        plt.title('{} vs. {}'.format(cat_A, cat_B))\n",
    "        plt.xlabel(cat_A)\n",
    "        plt.ylabel(cat_B)\n",
    "        plt.show()"
   ]
  },
  {
   "cell_type": "markdown",
   "metadata": {},
   "source": [
    "### People with diagnosis of high blood pressure miss more workdays due to illness/injury"
   ]
  },
  {
   "cell_type": "code",
   "execution_count": 8,
   "metadata": {},
   "outputs": [
    {
     "name": "stdout",
     "output_type": "stream",
     "text": [
      "HIBPDXY2: p-value for Yes vs. No: 2.636517812437048e-09 (Yes > No)\n"
     ]
    }
   ],
   "source": [
    "ttest_check('HIBPDXY2', 'DDNWRKY2', True)"
   ]
  },
  {
   "cell_type": "markdown",
   "metadata": {},
   "source": [
    "### People that currently smoke miss more workdays due to illness/injury"
   ]
  },
  {
   "cell_type": "code",
   "execution_count": 9,
   "metadata": {},
   "outputs": [
    {
     "name": "stdout",
     "output_type": "stream",
     "text": [
      "ADSMOK4: p-value for Yes vs. No: 0.024578501974979388 (Yes > No)\n"
     ]
    }
   ],
   "source": [
    "ttest_check('ADSMOK4', 'DDNWRKY2', True)"
   ]
  },
  {
   "cell_type": "markdown",
   "metadata": {},
   "source": [
    "These findings are as expected but emphasize the fact that programs that lead to reduced blood pressure and smoking will likely lead to less missed workdays due to illness/injury"
   ]
  },
  {
   "cell_type": "markdown",
   "metadata": {},
   "source": [
    "### No evidence of an association between number of chiropractor visits and missed workdays due to illness/injury"
   ]
  },
  {
   "cell_type": "code",
   "execution_count": 11,
   "metadata": {},
   "outputs": [
    {
     "name": "stdout",
     "output_type": "stream",
     "text": [
      "AMCHIRY2 vs. DDNWRKY2: Pearson's: 0.05666455887454476\n"
     ]
    },
    {
     "data": {
      "image/png": "[encoded data removed]",
      "text/plain": [
       "<Figure size 432x288 with 1 Axes>"
      ]
     },
     "metadata": {},
     "output_type": "display_data"
    }
   ],
   "source": [
    "corr_check_diag('AMCHIRY2', 'DDNWRKY2',False)"
   ]
  },
  {
   "cell_type": "markdown",
   "metadata": {},
   "source": [
    "These findings have implications about the necesssity of chiropractor visits"
   ]
  },
  {
   "cell_type": "markdown",
   "metadata": {},
   "source": [
    "## Insurance\n",
    "Information about who is insured and what type of insurance they have"
   ]
  },
  {
   "cell_type": "markdown",
   "metadata": {},
   "source": [
    "### Uninsured patients miss less workdays due to illness/injury"
   ]
  },
  {
   "cell_type": "code",
   "execution_count": 12,
   "metadata": {},
   "outputs": [
    {
     "name": "stdout",
     "output_type": "stream",
     "text": [
      "UNINSY2: p-value for Yes vs. No: 2.2878477736463308e-07 (No > Yes)\n"
     ]
    }
   ],
   "source": [
    "ttest_check('UNINSY2','DDNWRKY2', True)"
   ]
  },
  {
   "cell_type": "markdown",
   "metadata": {},
   "source": [
    "This potentially inducates that uninsured patients are not choosing to participate in procedures they consider to be elective but that they might have done if they were insured. This may also indicate a systemic issue of hospitals providing a shorter duration of care for individuals that are uninsured"
   ]
  },
  {
   "cell_type": "markdown",
   "metadata": {},
   "source": [
    "### Employers Union Insurance holders miss more work days due to illness/injury compared to others"
   ]
  },
  {
   "cell_type": "code",
   "execution_count": 13,
   "metadata": {},
   "outputs": [
    {
     "name": "stdout",
     "output_type": "stream",
     "text": [
      "HPEJAY2: p-value for Yes vs. No: 0.02317384792717033 (Yes > No)\n"
     ]
    }
   ],
   "source": [
    "ttest_check('HPEJAY2','DDNWRKY2',True)"
   ]
  },
  {
   "cell_type": "markdown",
   "metadata": {},
   "source": [
    "### Private Insurance holders miss more work days due to illness/injury compared to others"
   ]
  },
  {
   "cell_type": "code",
   "execution_count": 14,
   "metadata": {},
   "outputs": [
    {
     "name": "stdout",
     "output_type": "stream",
     "text": [
      "HPRJAY2: p-value for Yes vs. No: 0.04678655439473543 (Yes > No)\n"
     ]
    }
   ],
   "source": [
    "ttest_check('HPRJAY2','DDNWRKY2',True)"
   ]
  },
  {
   "cell_type": "markdown",
   "metadata": {},
   "source": [
    "### No evidence for the relationship between with and without nongroup insurance and missed workdays"
   ]
  },
  {
   "cell_type": "code",
   "execution_count": 15,
   "metadata": {},
   "outputs": [
    {
     "name": "stdout",
     "output_type": "stream",
     "text": [
      "HPNJAY2: p-value for Yes vs. No: 0.28865926615631177 (No > Yes)\n"
     ]
    }
   ],
   "source": [
    "ttest_check('HPNJAY2','DDNWRKY2',True)"
   ]
  },
  {
   "cell_type": "markdown",
   "metadata": {},
   "source": [
    "Preliminary analyses imply that the type of insurance can have an effect on the type and duration of care that people receive. Further analysis is needed to establish the source of this relationship."
   ]
  }
 ],
 "metadata": {
  "kernelspec": {
   "display_name": "Python 3",
   "language": "python",
   "name": "python3"
  },
  "language_info": {
   "codemirror_mode": {
    "name": "ipython",
    "version": 3
   },
   "file_extension": ".py",
   "mimetype": "text/x-python",
   "name": "python",
   "nbconvert_exporter": "python",
   "pygments_lexer": "ipython3",
   "version": "3.6.5"
  }
 },
 "nbformat": 4,
 "nbformat_minor": 2
}

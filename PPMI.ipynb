{
 "cells": [
  {
   "cell_type": "markdown",
   "metadata": {},
   "source": [
    "# Data Incubator PPMI project"
   ]
  },
  {
   "cell_type": "code",
   "execution_count": 2,
   "metadata": {},
   "outputs": [],
   "source": [
    "# Load libraries\n",
    "import pandas as pd\n",
    "import numpy as np\n",
    "from urllib.request import urlopen\n",
    "import matplotlib.pyplot as plt\n",
    "from sklearn.preprocessing import LabelEncoder\n",
    "from sklearn.preprocessing import OneHotEncoder"
   ]
  },
  {
   "cell_type": "code",
   "execution_count": 9,
   "metadata": {},
   "outputs": [
    {
     "data": {
      "text/html": [
       "<div>\n",
       "<style scoped>\n",
       "    .dataframe tbody tr th:only-of-type {\n",
       "        vertical-align: middle;\n",
       "    }\n",
       "\n",
       "    .dataframe tbody tr th {\n",
       "        vertical-align: top;\n",
       "    }\n",
       "\n",
       "    .dataframe thead th {\n",
       "        text-align: right;\n",
       "    }\n",
       "</style>\n",
       "<table border=\"1\" class=\"dataframe\">\n",
       "  <thead>\n",
       "    <tr style=\"text-align: right;\">\n",
       "      <th></th>\n",
       "      <th>REC_ID</th>\n",
       "      <th>F_STATUS</th>\n",
       "      <th>PATNO</th>\n",
       "      <th>EVENT_ID</th>\n",
       "      <th>PAG_NAME</th>\n",
       "      <th>INFODT</th>\n",
       "      <th>INVEVLBF</th>\n",
       "      <th>VITLTMBF</th>\n",
       "      <th>SYSSUPBF</th>\n",
       "      <th>DIASUPBF</th>\n",
       "      <th>...</th>\n",
       "      <th>PETCMPLT</th>\n",
       "      <th>PETDT</th>\n",
       "      <th>INVEVLAF</th>\n",
       "      <th>XFRYN</th>\n",
       "      <th>VMATRSLT</th>\n",
       "      <th>COMM</th>\n",
       "      <th>ORIG_ENTRY</th>\n",
       "      <th>LAST_UPDATE</th>\n",
       "      <th>QUERY</th>\n",
       "      <th>SITE_APRV</th>\n",
       "    </tr>\n",
       "  </thead>\n",
       "  <tbody>\n",
       "    <tr>\n",
       "      <th>0</th>\n",
       "      <td>361667301</td>\n",
       "      <td>V</td>\n",
       "      <td>4091</td>\n",
       "      <td>SC</td>\n",
       "      <td>AVIMAG</td>\n",
       "      <td>08/2012</td>\n",
       "      <td>1</td>\n",
       "      <td>15:48:00</td>\n",
       "      <td>113.0</td>\n",
       "      <td>67.0</td>\n",
       "      <td>...</td>\n",
       "      <td>1.0</td>\n",
       "      <td>08/2012</td>\n",
       "      <td>1.0</td>\n",
       "      <td>0.0</td>\n",
       "      <td>1.0</td>\n",
       "      <td>NaN</td>\n",
       "      <td>09/2012</td>\n",
       "      <td>2012-11-06</td>\n",
       "      <td>NaN</td>\n",
       "      <td>10/2012</td>\n",
       "    </tr>\n",
       "    <tr>\n",
       "      <th>1</th>\n",
       "      <td>361664501</td>\n",
       "      <td>V</td>\n",
       "      <td>4096</td>\n",
       "      <td>SC</td>\n",
       "      <td>AVIMAG</td>\n",
       "      <td>08/2012</td>\n",
       "      <td>1</td>\n",
       "      <td>16:11:00</td>\n",
       "      <td>119.0</td>\n",
       "      <td>81.0</td>\n",
       "      <td>...</td>\n",
       "      <td>1.0</td>\n",
       "      <td>08/2012</td>\n",
       "      <td>1.0</td>\n",
       "      <td>1.0</td>\n",
       "      <td>1.0</td>\n",
       "      <td>subject denies childbearing potential due to n...</td>\n",
       "      <td>09/2012</td>\n",
       "      <td>2012-10-25</td>\n",
       "      <td>NaN</td>\n",
       "      <td>09/2012</td>\n",
       "    </tr>\n",
       "    <tr>\n",
       "      <th>2</th>\n",
       "      <td>368445301</td>\n",
       "      <td>S</td>\n",
       "      <td>3662</td>\n",
       "      <td>SC</td>\n",
       "      <td>AVIMAG</td>\n",
       "      <td>10/2012</td>\n",
       "      <td>1</td>\n",
       "      <td>13:40:00</td>\n",
       "      <td>142.0</td>\n",
       "      <td>88.0</td>\n",
       "      <td>...</td>\n",
       "      <td>1.0</td>\n",
       "      <td>10/2012</td>\n",
       "      <td>1.0</td>\n",
       "      <td>1.0</td>\n",
       "      <td>2.0</td>\n",
       "      <td>NaN</td>\n",
       "      <td>10/2012</td>\n",
       "      <td>2020-01-16</td>\n",
       "      <td>NaN</td>\n",
       "      <td>10/2012</td>\n",
       "    </tr>\n",
       "    <tr>\n",
       "      <th>3</th>\n",
       "      <td>369102001</td>\n",
       "      <td>V</td>\n",
       "      <td>4098</td>\n",
       "      <td>SC</td>\n",
       "      <td>AVIMAG</td>\n",
       "      <td>10/2012</td>\n",
       "      <td>1</td>\n",
       "      <td>16:38:00</td>\n",
       "      <td>143.0</td>\n",
       "      <td>86.0</td>\n",
       "      <td>...</td>\n",
       "      <td>1.0</td>\n",
       "      <td>10/2012</td>\n",
       "      <td>1.0</td>\n",
       "      <td>1.0</td>\n",
       "      <td>1.0</td>\n",
       "      <td>NaN</td>\n",
       "      <td>10/2012</td>\n",
       "      <td>2012-10-31</td>\n",
       "      <td>NaN</td>\n",
       "      <td>10/2012</td>\n",
       "    </tr>\n",
       "    <tr>\n",
       "      <th>4</th>\n",
       "      <td>377945201</td>\n",
       "      <td>V</td>\n",
       "      <td>4102</td>\n",
       "      <td>SC</td>\n",
       "      <td>AVIMAG</td>\n",
       "      <td>12/2012</td>\n",
       "      <td>1</td>\n",
       "      <td>17:15:00</td>\n",
       "      <td>125.0</td>\n",
       "      <td>72.0</td>\n",
       "      <td>...</td>\n",
       "      <td>1.0</td>\n",
       "      <td>NaN</td>\n",
       "      <td>NaN</td>\n",
       "      <td>1.0</td>\n",
       "      <td>1.0</td>\n",
       "      <td>NaN</td>\n",
       "      <td>12/2012</td>\n",
       "      <td>2012-12-20</td>\n",
       "      <td>NaN</td>\n",
       "      <td>12/2012</td>\n",
       "    </tr>\n",
       "  </tbody>\n",
       "</table>\n",
       "<p>5 rows × 32 columns</p>\n",
       "</div>"
      ],
      "text/plain": [
       "      REC_ID F_STATUS  PATNO EVENT_ID PAG_NAME   INFODT  INVEVLBF  VITLTMBF  \\\n",
       "0  361667301        V   4091       SC   AVIMAG  08/2012         1  15:48:00   \n",
       "1  361664501        V   4096       SC   AVIMAG  08/2012         1  16:11:00   \n",
       "2  368445301        S   3662       SC   AVIMAG  10/2012         1  13:40:00   \n",
       "3  369102001        V   4098       SC   AVIMAG  10/2012         1  16:38:00   \n",
       "4  377945201        V   4102       SC   AVIMAG  12/2012         1  17:15:00   \n",
       "\n",
       "   SYSSUPBF  DIASUPBF    ...      PETCMPLT    PETDT  INVEVLAF  XFRYN  \\\n",
       "0     113.0      67.0    ...           1.0  08/2012       1.0    0.0   \n",
       "1     119.0      81.0    ...           1.0  08/2012       1.0    1.0   \n",
       "2     142.0      88.0    ...           1.0  10/2012       1.0    1.0   \n",
       "3     143.0      86.0    ...           1.0  10/2012       1.0    1.0   \n",
       "4     125.0      72.0    ...           1.0      NaN       NaN    1.0   \n",
       "\n",
       "   VMATRSLT                                               COMM  ORIG_ENTRY  \\\n",
       "0       1.0                                                NaN     09/2012   \n",
       "1       1.0  subject denies childbearing potential due to n...     09/2012   \n",
       "2       2.0                                                NaN     10/2012   \n",
       "3       1.0                                                NaN     10/2012   \n",
       "4       1.0                                                NaN     12/2012   \n",
       "\n",
       "  LAST_UPDATE QUERY  SITE_APRV  \n",
       "0  2012-11-06   NaN    10/2012  \n",
       "1  2012-10-25   NaN    09/2012  \n",
       "2  2020-01-16   NaN    10/2012  \n",
       "3  2012-10-31   NaN    10/2012  \n",
       "4  2012-12-20   NaN    12/2012  \n",
       "\n",
       "[5 rows x 32 columns]"
      ]
     },
     "execution_count": 9,
     "metadata": {},
     "output_type": "execute_result"
    }
   ],
   "source": [
    "# Read the file and save to a DataFrame\n",
    "data = pd.read_csv(r'C:\\Users\\wc11\\OneDrive\\Documents\\Graduate Research\\PPMI_2020\\PPMI_2020/AV-133_Imaging.csv')\n",
    "# Output the first five lines\n",
    "data.head()"
   ]
  },
  {
   "cell_type": "code",
   "execution_count": 10,
   "metadata": {},
   "outputs": [
    {
     "data": {
      "text/plain": [
       "(111, 32)"
      ]
     },
     "execution_count": 10,
     "metadata": {},
     "output_type": "execute_result"
    }
   ],
   "source": [
    "data.shape"
   ]
  },
  {
   "cell_type": "code",
   "execution_count": 11,
   "metadata": {},
   "outputs": [
    {
     "data": {
      "text/plain": [
       "<BarContainer object of 111 artists>"
      ]
     },
     "execution_count": 11,
     "metadata": {},
     "output_type": "execute_result"
    },
    {
     "data": {
      "image/png": "[encoded data removed]",
      "text/plain": [
       "<Figure size 432x288 with 1 Axes>"
      ]
     },
     "metadata": {},
     "output_type": "display_data"
    }
   ],
   "source": [
    "plt.bar(data.PATNO,data.SYSSUPBF)"
   ]
  },
  {
   "cell_type": "code",
   "execution_count": null,
   "metadata": {},
   "outputs": [],
   "source": []
  }
 ],
 "metadata": {
  "kernelspec": {
   "display_name": "Python 3",
   "language": "python",
   "name": "python3"
  },
  "language_info": {
   "codemirror_mode": {
    "name": "ipython",
    "version": 3
   },
   "file_extension": ".py",
   "mimetype": "text/x-python",
   "name": "python",
   "nbconvert_exporter": "python",
   "pygments_lexer": "ipython3",
   "version": "3.6.5"
  }
 },
 "nbformat": 4,
 "nbformat_minor": 2
}
